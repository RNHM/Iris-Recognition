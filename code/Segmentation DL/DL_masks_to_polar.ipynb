{
 "cells": [
  {
   "cell_type": "code",
   "execution_count": 1,
   "metadata": {},
   "outputs": [],
   "source": [
    "import cv2\n",
    "import math\n",
    "import numpy as np\n",
    "import os\n",
    "import matplotlib.pyplot as plt\n",
    "import polarTransform\n",
    "from PIL import Image, ImageDraw\n",
    "from tqdm import tqdm\n",
    "import glob"
   ]
  },
  {
   "cell_type": "code",
   "execution_count": 2,
   "metadata": {},
   "outputs": [],
   "source": [
    "# Get the paths of every file given a parent directory\n",
    "def get_all_files(path):\n",
    "    vect = []\n",
    "    for path, subdirs, files in os.walk(path):\n",
    "        for name in files:\n",
    "            if (name == '.DS_Store') | (name=='Readme.txt'):\n",
    "                pass\n",
    "            else:\n",
    "                vect.append(os.path.join(path, name))\n",
    "        vect = sorted(vect)\n",
    "    return vect"
   ]
  },
  {
   "cell_type": "code",
   "execution_count": 3,
   "metadata": {},
   "outputs": [
    {
     "data": {
      "text/plain": [
       "<matplotlib.image.AxesImage at 0x107063700>"
      ]
     },
     "execution_count": 3,
     "metadata": {},
     "output_type": "execute_result"
    },
    {
     "data": {
      "image/png": "[encoded data removed]",
      "text/plain": [
       "<Figure size 432x288 with 1 Axes>"
      ]
     },
     "metadata": {
      "needs_background": "light"
     },
     "output_type": "display_data"
    }
   ],
   "source": [
    "masks_DL = get_all_files('../new datasets/masks_DL')\n",
    "img = (cv2.imread(masks_DL[0], cv2.IMREAD_GRAYSCALE)*255.0).astype(np.uint8)\n",
    "cimg = cv2.cvtColor(img,cv2.COLOR_GRAY2BGR)\n",
    "\n",
    "circles = cv2.HoughCircles(img,cv2.HOUGH_GRADIENT,4,20, param1=10,param2=100,minRadius=0,maxRadius=60)\n",
    "circles = np.uint16(np.around(circles))\n",
    "\n",
    "i = circles[0,:][0]\n",
    "\n",
    "line = img[i[1],:]\n",
    "deltaR = np.sum(line==255)/2\n",
    "\n",
    "# draw the outer circle\n",
    "cv2.circle(cimg,(i[0],i[1]),i[2],(0,0,255),2)\n",
    "# draw the center of the circle\n",
    "cv2.line(cimg, (0,i[1]), (cimg.shape[1],i[1]), (0,0,255),2)\n",
    "cv2.circle(cimg,(i[0],i[1]),2,(255,0,0),3)\n",
    "cv2.circle(cimg,(i[0],i[1]),int(deltaR)+i[2],(0,0,255),2)\n",
    "\n",
    "plt.axis('off')\n",
    "plt.imshow(cimg)"
   ]
  },
  {
   "cell_type": "code",
   "execution_count": 4,
   "metadata": {},
   "outputs": [
    {
     "name": "stderr",
     "output_type": "stream",
     "text": [
      "100%|██████████| 2240/2240 [00:16<00:00, 133.98it/s]\n"
     ]
    }
   ],
   "source": [
    "from create_polar_im_DL_mask import create_polar_im_DL\n",
    "# Saving the images\n",
    "save_folder_masks = '../new datasets/masks_DL_polar'\n",
    "DL_masks = get_all_files('../new datasets/masks_DL')\n",
    "images = get_all_files('../dataset/images')\n",
    "\n",
    "if not os.path.exists(save_folder_masks):\n",
    "    os.mkdir(save_folder_masks)\n",
    "    numb = [\"{0:03}\".format(i) for i in range(1,225)]\n",
    "    for i in numb:\n",
    "        os.mkdir(os.path.join(save_folder_masks,i))\n",
    "            \n",
    "for i in tqdm(range(len(images))):\n",
    "    create_polar_im_DL(DL_masks[i],images[i],save_folder_masks)"
   ]
  },
  {
   "cell_type": "code",
   "execution_count": 9,
   "metadata": {},
   "outputs": [
    {
     "name": "stdout",
     "output_type": "stream",
     "text": [
      "[48, 99.0813898143741, 145]\n"
     ]
    }
   ],
   "source": [
    "path_polar = '../new datasets/masks_DL_polar'\n",
    "polar_list = get_all_files(path_polar)\n",
    "\n",
    "# Reshaping all the polar images to the same shape\n",
    "y_coords = []\n",
    "y_coords_resized = []\n",
    "for i in get_all_files(path_polar_im):\n",
    "    im = cv2.imread(i, cv2.IMREAD_GRAYSCALE)\n",
    "    y_coords.append(im.shape[0])\n",
    "print([np.min(y_coords), np.mean(y_coords), np.max(y_coords)])"
   ]
  },
  {
   "cell_type": "code",
   "execution_count": 10,
   "metadata": {},
   "outputs": [
    {
     "name": "stderr",
     "output_type": "stream",
     "text": [
      "100%|██████████| 2101/2101 [00:04<00:00, 433.35it/s]\n"
     ]
    }
   ],
   "source": [
    "# Saving the resized polar images\n",
    "save_folder_polar_mean = '../new datasets/masks_DL_polar_mean'\n",
    "\n",
    "if not os.path.exists(save_folder_polar_mean):\n",
    "    os.mkdir(save_folder_polar_mean)\n",
    "    numb = [\"{0:03}\".format(i) for i in range(1,225)]\n",
    "    for i in numb:\n",
    "        os.mkdir(os.path.join(save_folder_polar_mean,i))\n",
    "\n",
    "def np_to_PIL(im):\n",
    "    im = (im-np.min(im))/(np.max(im)-np.min(im))*255.0\n",
    "    im = Image.fromarray(np.uint8(im))\n",
    "    return im\n",
    "\n",
    "for i in tqdm(polar_list):\n",
    "    im = cv2.imread(i, cv2.IMREAD_GRAYSCALE)\n",
    "    resized_mean = np_to_PIL(cv2.resize(im, (360,int(np.mean(y_coords))), interpolation=cv2.INTER_NEAREST_EXACT))\n",
    "    save_path = os.path.basename(os.path.dirname(i)) + '/' + os.path.basename(i)[:-4]\n",
    "    resized_mean.save(os.path.join(save_folder_polar_mean,save_path)+'.png')"
   ]
  }
 ],
 "metadata": {
  "interpreter": {
   "hash": "b2840868fd10fc12830fa93eb4c0986c669cf468a141f4759a2d12e5226cc1c9"
  },
  "kernelspec": {
   "display_name": "Python 3.8.8 64-bit ('torch_m1': conda)",
   "name": "python3"
  },
  "language_info": {
   "codemirror_mode": {
    "name": "ipython",
    "version": 3
   },
   "file_extension": ".py",
   "mimetype": "text/x-python",
   "name": "python",
   "nbconvert_exporter": "python",
   "pygments_lexer": "ipython3",
   "version": "3.8.8"
  },
  "metadata": {
   "interpreter": {
    "hash": "b2840868fd10fc12830fa93eb4c0986c669cf468a141f4759a2d12e5226cc1c9"
   }
  },
  "orig_nbformat": 2
 },
 "nbformat": 4,
 "nbformat_minor": 2
}